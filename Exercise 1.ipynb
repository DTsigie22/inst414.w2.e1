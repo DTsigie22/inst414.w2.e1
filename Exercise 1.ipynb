{
 "cells": [
  {
   "cell_type": "code",
   "execution_count": 2,
   "id": "231d12b2",
   "metadata": {},
   "outputs": [
    {
     "name": "stdout",
     "output_type": "stream",
     "text": [
      "{\"imdb_id\": \"tt0035423\", \"title\": \"Kate & Leopold\", \"year\": \"2001\", \"runtime\": \"118\", \"genres\": [\"Comedy\", \"Fantasy\", \"Romance\"], \"actors\": [[\"nm0000212\", \"Meg Ryan\"], [\"nm0413168\", \"Hugh Jackman\"], [\"nm0000630\", \"Liev Schreiber\"], [\"nm0005227\", \"Breckin Meyer\"]], \"rating\": {\"avg\": 6.4, \"votes\": 85923}}\n",
      "\n"
     ]
    }
   ],
   "source": [
    "import json\n",
    "with open(\"imdb_movies_1985to2022.json\", \"r\") as file:\n",
    "    for line in file:\n",
    "        print(line)\n",
    "        this_movie = json.loads(line)\n",
    "        break"
   ]
  },
  {
   "cell_type": "code",
   "execution_count": 3,
   "id": "4a64d416",
   "metadata": {},
   "outputs": [
    {
     "data": {
      "text/plain": [
       "{'imdb_id': 'tt0035423',\n",
       " 'title': 'Kate & Leopold',\n",
       " 'year': '2001',\n",
       " 'runtime': '118',\n",
       " 'genres': ['Comedy', 'Fantasy', 'Romance'],\n",
       " 'actors': [['nm0000212', 'Meg Ryan'],\n",
       "  ['nm0413168', 'Hugh Jackman'],\n",
       "  ['nm0000630', 'Liev Schreiber'],\n",
       "  ['nm0005227', 'Breckin Meyer']],\n",
       " 'rating': {'avg': 6.4, 'votes': 85923}}"
      ]
     },
     "execution_count": 3,
     "metadata": {},
     "output_type": "execute_result"
    }
   ],
   "source": [
    "this_movie"
   ]
  },
  {
   "cell_type": "code",
   "execution_count": 6,
   "id": "1525e332",
   "metadata": {},
   "outputs": [
    {
     "name": "stdout",
     "output_type": "stream",
     "text": [
      "[['nm0000212', 'Meg Ryan'], ['nm0413168', 'Hugh Jackman'], ['nm0000630', 'Liev Schreiber'], ['nm0005227', 'Breckin Meyer']]\n"
     ]
    }
   ],
   "source": [
    "actors = this_movie[\"actors\"]\n",
    "print(actors)"
   ]
  },
  {
   "cell_type": "code",
   "execution_count": null,
   "id": "b3d657ba",
   "metadata": {},
   "outputs": [],
   "source": [
    "movie = []\n",
    "for movie in file:\n",
    "    if 'Hugh Jackman' in actors:\n",
    "        new_avg = mean()"
   ]
  }
 ],
 "metadata": {
  "kernelspec": {
   "display_name": "Python 3 (ipykernel)",
   "language": "python",
   "name": "python3"
  },
  "language_info": {
   "codemirror_mode": {
    "name": "ipython",
    "version": 3
   },
   "file_extension": ".py",
   "mimetype": "text/x-python",
   "name": "python",
   "nbconvert_exporter": "python",
   "pygments_lexer": "ipython3",
   "version": "3.9.13"
  }
 },
 "nbformat": 4,
 "nbformat_minor": 5
}
